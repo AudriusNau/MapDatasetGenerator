{
  "nbformat": 4,
  "nbformat_minor": 0,
  "metadata": {
    "colab": {
      "name": "Maps.ltZemelapioGavimas.ipynb",
      "provenance": [],
      "mount_file_id": "1taqeS8vq9WyZ5vxViA4b_RSMVD2Yu513",
      "authorship_tag": "ABX9TyP74g5BW8oCF0Q0X6C5ffQY"
    },
    "kernelspec": {
      "name": "python3",
      "display_name": "Python 3"
    }
  },
  "cells": [
    {
      "cell_type": "code",
      "metadata": {
        "id": "rHpgQ_b2LN6N",
        "colab_type": "code",
        "colab": {}
      },
      "source": [
        "import requests \n",
        "#atstumas per kiek pasikeicia koordinates\n",
        "moveCord=50\n",
        "#2 types of ortofoto maps\n",
        "type1=\"mapslt_ortofoto\"\n",
        "type2=\"mapslt_ortofoto_2010\"\n",
        "\n",
        "urlHead = \"http://www.maps.lt/map/map.ashx?cl=tstp&w=640&h=480&extent=%7B%22\"\n",
        "\n",
        "urlEnd1=\"%2C%22spatialReference%22%3A%7B%22wkid%22%3A3346%7D%7D&layers=%5B%7B%22url%22%3A%22http%3A%2F%2Fwww.maps.lt%2Fmaps_services%2F\"+type1+\"%2FMapServer%3Fcl%3Dtstp%22%2C%22format%22%3A%22MIXED%22%7D%5D\"\n",
        "urlEnd2=\"%2C%22spatialReference%22%3A%7B%22wkid%22%3A3346%7D%7D&layers=%5B%7B%22url%22%3A%22http%3A%2F%2Fwww.maps.lt%2Fmaps_services%2F\"+type2+\"%2FMapServer%3Fcl%3Dtstp%22%2C%22format%22%3A%22MIXED%22%7D%5D\"\n"
      ],
      "execution_count": 0,
      "outputs": []
    },
    {
      "cell_type": "markdown",
      "metadata": {
        "id": "eIKWI7yg-o4O",
        "colab_type": "text"
      },
      "source": [
        "Chech if you have directory"
      ]
    },
    {
      "cell_type": "code",
      "metadata": {
        "id": "ZMx0RbITUwLh",
        "colab_type": "code",
        "colab": {}
      },
      "source": [
        "import os.path\n",
        "from os import path\n",
        "path.exists(\"/content/drive/My Drive/valid\")"
      ],
      "execution_count": 0,
      "outputs": []
    },
    {
      "cell_type": "markdown",
      "metadata": {
        "id": "HNnQDyhWaO7h",
        "colab_type": "text"
      },
      "source": [
        "Anchor foto irasymas"
      ]
    },
    {
      "cell_type": "code",
      "metadata": {
        "id": "NQiFVwSafRdl",
        "colab_type": "code",
        "colab": {}
      },
      "source": [
        "i=0\n",
        "#lietuvos kordinaciu sistemos koordinates\n",
        "xmin=494575\n",
        "ymin=6014221 \n",
        "xmax=xmin+357\n",
        "ymax=ymin+318\n",
        "#cikla darau per du etapus, kad nuotrauku istraukimas neuzlustu\n",
        "for i in range (0, 2700, 3):\n",
        "\n",
        "  coords= \"xmin%22%3A\" +str(xmin)+ \"%2C%22ymin%22%3A\"+str(ymin)+\"%2C%22xmax%22%3A\"+str(xmax)+\"%2C%22ymax%22%3A\"+str(ymax)\n",
        "  #koordinaciu paslinkimas\n",
        "  ymin+=moveCord\n",
        "  ymax+=moveCord\n",
        "\n",
        "  r = requests.get(urlHead+coords+urlEnd1) \n",
        "  #reikia susikurti direktorija \"valid\" Google Drive pries paleidima\n",
        "  fileName= \"/content/drive/My Drive/valid/image-\"+str('{:04}'.format(i))+\".png\"\n",
        "  f = open(fileName, 'wb') \n",
        "  f.write(r.content) \n",
        "  f.close() \n"
      ],
      "execution_count": 0,
      "outputs": []
    },
    {
      "cell_type": "markdown",
      "metadata": {
        "id": "m0PhiCwyJGoW",
        "colab_type": "text"
      },
      "source": [
        "Positive nuotraukos irasymas"
      ]
    },
    {
      "cell_type": "code",
      "metadata": {
        "id": "kEgnrKaGaN0d",
        "colab_type": "code",
        "colab": {}
      },
      "source": [
        "j=1\n",
        "#lietuvos kordinaciu sistemos koordinates\n",
        "xmin=494575\n",
        "ymin=6014221\n",
        "xmax=xmin+357\n",
        "ymax=ymin+318\n",
        "for j in range (1, 2700, 3):\n",
        " \n",
        "  coords= \"xmin%22%3A\" +str(xmin)+ \"%2C%22ymin%22%3A\"+str(ymin)+\"%2C%22xmax%22%3A\"+str(xmax)+\"%2C%22ymax%22%3A\"+str(ymax)\n",
        "  ymin+=moveCord\n",
        "  ymax+=moveCord\n",
        "\n",
        "  r = requests.get(urlHead+coords+urlEnd2) \n",
        "  #antra nuotrauka\n",
        "  fileName= \"/content/drive/My Drive/valid/image-\"+str('{:04}'.format(j))+\".png\"\n",
        "  f = open(fileName, 'wb') \n",
        "  f.write(r.content) \n",
        "  f.close() "
      ],
      "execution_count": 0,
      "outputs": []
    },
    {
      "cell_type": "markdown",
      "metadata": {
        "id": "8EvEzuJER8k9",
        "colab_type": "text"
      },
      "source": [
        "Antras Anchor irasymas"
      ]
    },
    {
      "cell_type": "code",
      "metadata": {
        "colab_type": "code",
        "id": "mX7GFA2qR2R_",
        "colab": {}
      },
      "source": [
        "i=2700\n",
        "xmin=452435\n",
        "ymin=6135842 \n",
        "xmax=xmin+357\n",
        "ymax=ymin+318\n",
        "for i in range (2700, 5736, 3):\n",
        "\n",
        "  coords= \"xmin%22%3A\" +str(xmin)+ \"%2C%22ymin%22%3A\"+str(ymin)+\"%2C%22xmax%22%3A\"+str(xmax)+\"%2C%22ymax%22%3A\"+str(ymax)\n",
        "  ymin+=moveCord\n",
        "  ymax+=moveCord\n",
        "\n",
        "  r = requests.get(urlHead+coords+urlEnd1) \n",
        "  #pirma nuotrauka\n",
        "  fileName= \"/content/drive/My Drive/valid2/image-\"+str('{:04}'.format(i))+\".png\"\n",
        "  f = open(fileName, 'wb') \n",
        "  f.write(r.content) \n",
        "  f.close() \n"
      ],
      "execution_count": 0,
      "outputs": []
    },
    {
      "cell_type": "markdown",
      "metadata": {
        "id": "rTt9MsmTRr5U",
        "colab_type": "text"
      },
      "source": [
        "Antras Positive irasymas\n"
      ]
    },
    {
      "cell_type": "code",
      "metadata": {
        "colab_type": "code",
        "id": "qBAQXKpyL_IN",
        "colab": {}
      },
      "source": [
        "j=2701\n",
        "xmin=452435\n",
        "ymin=6135842 \n",
        "xmax=xmin+357\n",
        "ymax=ymin+318\n",
        "for j in range (2701, 5736, 3):\n",
        " \n",
        "  coords= \"xmin%22%3A\" +str(xmin)+ \"%2C%22ymin%22%3A\"+str(ymin)+\"%2C%22xmax%22%3A\"+str(xmax)+\"%2C%22ymax%22%3A\"+str(ymax)\n",
        "  ymin+=moveCord\n",
        "  ymax+=moveCord\n",
        "\n",
        "  r = requests.get(urlHead+coords+urlEnd2) \n",
        "  #antra nuotrauka\n",
        "  fileName= \"/content/drive/My Drive/valid2/image-\"+str('{:04}'.format(j))+\".png\"\n",
        "  f = open(fileName, 'wb') \n",
        "  f.write(r.content) \n",
        "  f.close() "
      ],
      "execution_count": 0,
      "outputs": []
    },
    {
      "cell_type": "markdown",
      "metadata": {
        "id": "lGTabK3mubMw",
        "colab_type": "text"
      },
      "source": [
        "Negative duomenu randomising"
      ]
    },
    {
      "cell_type": "code",
      "metadata": {
        "id": "b0jIwdKCMHut",
        "colab_type": "code",
        "colab": {}
      },
      "source": [
        "\n",
        "import random, os\n",
        "path = r\"/content/drive/My Drive/train_n/\"\n",
        "from shutil import copyfile\n",
        "k=2\n",
        "for k in range (2, 5736, 3):\n",
        "  random_filename = random.choice([\n",
        "      x for x in os.listdir(path)\n",
        "      if os.path.isfile(os.path.join(path, x)) ])\n",
        "  #kopijuoja nuotrauka ir pakeicia jos name\n",
        "  copyfile(path+random_filename, \"/content/drive/My Drive/negativeTrain/\"+str('{:04}'.format(k))+\".png\")\n"
      ],
      "execution_count": 0,
      "outputs": []
    },
    {
      "cell_type": "markdown",
      "metadata": {
        "id": "zqMGfpX9ITVD",
        "colab_type": "text"
      },
      "source": [
        "Test duomenu generavimas\n"
      ]
    },
    {
      "cell_type": "code",
      "metadata": {
        "id": "AlSn2x4cISnO",
        "colab_type": "code",
        "colab": {}
      },
      "source": [
        "xmin=331157\n",
        "ymin=6167587 \n",
        "xmax=xmin+357\n",
        "ymax=ymin+318\n",
        "\n",
        "coords= \"xmin%22%3A\" +str(xmin)+ \"%2C%22ymin%22%3A\"+str(ymin)+\"%2C%22xmax%22%3A\"+str(xmax)+\"%2C%22ymax%22%3A\"+str(ymax)\n",
        "\n",
        "r = requests.get(urlHead+coords+urlEnd1) \n",
        " #pirma nuotrauka\n",
        "fileName= \"/content/drive/My Drive/Test/image-\"+str('{:04}'.format(0))+\".png\"\n",
        "f = open(fileName, 'wb') \n",
        "f.write(r.content) \n",
        "f.close() \n",
        "\n",
        "r = requests.get(urlHead+coords+urlEnd2) \n",
        " #antra nuotrauka\n",
        "fileName= \"/content/drive/My Drive/Test/image-\"+str('{:04}'.format(1))+\".png\"\n",
        "f = open(fileName, 'wb') \n",
        "f.write(r.content) \n",
        "f.close() \n",
        "\n",
        "xmin_n=560538\n",
        "ymin_n=6171793 \n",
        "xmax_n=xmin_n+357\n",
        "ymax_n=ymin_n+318\n",
        "coords_n= \"xmin%22%3A\" +str(xmin_n)+ \"%2C%22ymin%22%3A\"+str(ymin_n)+\"%2C%22xmax%22%3A\"+str(xmax_n)+\"%2C%22ymax%22%3A\"+str(ymax_n)\n",
        "r = requests.get(urlHead+coords_n+urlEnd2) \n",
        " #negative nuotrauka\n",
        "fileName= \"/content/drive/My Drive/Test/image-\"+str('{:04}'.format(2))+\".png\"\n",
        "f = open(fileName, 'wb') \n",
        "f.write(r.content) \n",
        "f.close() \n"
      ],
      "execution_count": 0,
      "outputs": []
    }
  ]
}